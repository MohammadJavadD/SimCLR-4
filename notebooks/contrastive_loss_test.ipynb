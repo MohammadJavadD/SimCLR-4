{
 "cells": [
  {
   "cell_type": "code",
   "execution_count": 54,
   "metadata": {},
   "outputs": [
    {
     "name": "stdout",
     "output_type": "stream",
     "text": [
      "The autoreload extension is already loaded. To reload it, use:\n",
      "  %reload_ext autoreload\n"
     ]
    }
   ],
   "source": [
    "import sys\n",
    "sys.path.append('../')\n",
    "\n",
    "import torch\n",
    "import torch.nn as nn\n",
    "from torch.utils.data import DataLoader\n",
    "from torchvision import transforms\n",
    "from torchvision import datasets\n",
    "from torch.utils.data import SubsetRandomSampler\n",
    "import numpy as np\n",
    "import random\n",
    "\n",
    "import numpy as np\n",
    "import pandas as pd\n",
    "import os\n",
    "import glob\n",
    "import tqdm\n",
    "import matplotlib.pyplot as plt\n",
    "import matplotlib.gridspec as gridspec\n",
    "import seaborn as sns\n",
    "import sklearn\n",
    "\n",
    "eps = np.finfo(float).eps\n",
    "\n",
    "plt.rcParams['figure.figsize'] = 10, 10\n",
    "%matplotlib inline\n",
    "\n",
    "%load_ext autoreload\n",
    "%autoreload 2"
   ]
  },
  {
   "cell_type": "code",
   "execution_count": 55,
   "metadata": {},
   "outputs": [],
   "source": [
    "batch_size = 4\n",
    "feat_dim = 512\n",
    "tau = 1\n",
    "x_i = torch.randn(batch_size, feat_dim)\n",
    "x_j = x_i + 0.05 * torch.randn(batch_size, feat_dim)\n",
    "x = torch.cat((x_i, x_j), dim=0)"
   ]
  },
  {
   "cell_type": "code",
   "execution_count": 56,
   "metadata": {},
   "outputs": [
    {
     "name": "stdout",
     "output_type": "stream",
     "text": [
      "torch.Size([8, 8])\n"
     ]
    }
   ],
   "source": [
    "sim_mat_nom = torch.mm(x, x.T)\n",
    "sim_mat_denom = torch.mm(torch.norm(x, dim=1).unsqueeze(1), torch.norm(x, dim=1).unsqueeze(1).T)\n",
    "\n",
    "sim_mat = sim_mat_nom / sim_mat_denom.clamp(min=1e-16)\n",
    "sim_mat = torch.exp(sim_mat / tau)\n",
    "\n",
    "print(sim_mat.size())"
   ]
  },
  {
   "cell_type": "code",
   "execution_count": 57,
   "metadata": {},
   "outputs": [
    {
     "name": "stdout",
     "output_type": "stream",
     "text": [
      "tensor([[2.7183, 1.0419, 0.9345, 0.9992, 2.7151, 1.0429, 0.9367, 0.9996],\n",
      "        [1.0419, 2.7183, 0.9406, 0.9986, 1.0444, 2.7150, 0.9391, 0.9958],\n",
      "        [0.9345, 0.9406, 2.7183, 1.0348, 0.9302, 0.9403, 2.7151, 1.0350],\n",
      "        [0.9992, 0.9986, 1.0348, 2.7183, 1.0002, 0.9953, 1.0388, 2.7145],\n",
      "        [2.7151, 1.0444, 0.9302, 1.0002, 2.7183, 1.0454, 0.9324, 1.0004],\n",
      "        [1.0429, 2.7150, 0.9403, 0.9953, 1.0454, 2.7183, 0.9388, 0.9923],\n",
      "        [0.9367, 0.9391, 2.7151, 1.0388, 0.9324, 0.9388, 2.7183, 1.0392],\n",
      "        [0.9996, 0.9958, 1.0350, 2.7145, 1.0004, 0.9923, 1.0392, 2.7183]])\n"
     ]
    }
   ],
   "source": [
    "print(sim_mat)"
   ]
  },
  {
   "cell_type": "code",
   "execution_count": 58,
   "metadata": {},
   "outputs": [
    {
     "name": "stdout",
     "output_type": "stream",
     "text": [
      "0-4\n",
      "1-5\n",
      "2-6\n",
      "3-7\n"
     ]
    },
    {
     "data": {
      "text/plain": [
       "tensor(0.6268)"
      ]
     },
     "execution_count": 58,
     "metadata": {},
     "output_type": "execute_result"
    }
   ],
   "source": [
    "i_ind = torch.arange(0, batch_size)\n",
    "j_ind = torch.arange(batch_size, batch_size * 2)\n",
    "\n",
    "diag_ind = torch.eye(batch_size * 2).bool()\n",
    "sim_mat = sim_mat.masked_fill_(diag_ind, 0)\n",
    "\n",
    "left_score = []\n",
    "right_score = []\n",
    "losses = []\n",
    "for i in range(4):\n",
    "    j = i + 4\n",
    "    print('{}-{}'.format(i,j))\n",
    "    loss = 2 * sim_mat[i][j] / torch.sum(sim_mat[i, :])\n",
    "    losses.append(loss)\n",
    "\n",
    "torch.mean(torch.tensor(losses))"
   ]
  },
  {
   "cell_type": "code",
   "execution_count": 84,
   "metadata": {},
   "outputs": [],
   "source": [
    "class contrastive_loss(nn.Module):\n",
    "    def __init__(self, tau=1):\n",
    "        super(contrastive_loss, self).__init__()\n",
    "        self.tau = tau\n",
    "\n",
    "    def forward(self, x):\n",
    "        b_sz = x.size(0) // 2\n",
    "\n",
    "        sim_mat_nom = torch.mm(x, x.T)\n",
    "        sim_mat_denom = torch.mm(torch.norm(x, dim=1).unsqueeze(1), torch.norm(x, dim=1).unsqueeze(1).T)\n",
    "\n",
    "        sim_mat = sim_mat_nom / sim_mat_denom.clamp(min=1e-16)\n",
    "        sim_mat = torch.exp(sim_mat / self.tau)\n",
    "\n",
    "        # getting rid of diag\n",
    "        diag_ind = torch.eye(b_sz * 2).bool()\n",
    "        sim_mat = sim_mat.masked_fill_(diag_ind, 0)\n",
    "\n",
    "        loss_nom = torch.zeros(b_sz)\n",
    "\n",
    "        for i in range(b_sz):\n",
    "            loss_nom[i] = sim_mat[i][i + b_sz]\n",
    "        loss_nom = torch.cat((loss_nom, loss_nom), dim=0)\n",
    "\n",
    "        loss = torch.mean(-torch.log(loss_nom / torch.sum(sim_mat, dim=-1)))\n",
    "\n",
    "        return loss"
   ]
  },
  {
   "cell_type": "code",
   "execution_count": 85,
   "metadata": {},
   "outputs": [],
   "source": [
    "class contrastive_loss2(nn.Module):\n",
    "    def __init__(self, tau=1):\n",
    "        super(contrastive_loss2, self).__init__()\n",
    "        self.tau = tau\n",
    "        \n",
    "    def forward(self, xi, xj):\n",
    "        \n",
    "        x = torch.cat((xi, xj), dim=0)\n",
    "        \n",
    "        sim_mat_nom = torch.mm(x, x.T)\n",
    "        sim_mat_denom = torch.mm(torch.norm(x, dim=1).unsqueeze(1), torch.norm(x, dim=1).unsqueeze(1).T)\n",
    "        sim_mat = sim_mat_nom / sim_mat_denom.clamp(min=1e-16)\n",
    "        sim_mat = torch.exp(sim_mat / self.tau)\n",
    "\n",
    "        # getting rid of diag\n",
    "        diag_ind = torch.eye(xi.size(0) * 2).bool()\n",
    "        sim_mat = sim_mat.masked_fill_(diag_ind, 0)\n",
    "        \n",
    "        # top\n",
    "        sim_mat_denom = torch.norm(xi, dim=1) * torch.norm(xj, dim=1)\n",
    "        sim_match = torch.exp(torch.sum(xi * xj, dim=-1) / sim_mat_denom / self.tau) \n",
    "        sim_match = torch.cat((sim_match, sim_match), dim=0)\n",
    "        \n",
    "        loss = torch.mean(-torch.log(sim_match / torch.sum(sim_mat, dim=-1)))\n",
    "        \n",
    "        return loss\n",
    "        "
   ]
  },
  {
   "cell_type": "code",
   "execution_count": 86,
   "metadata": {},
   "outputs": [
    {
     "name": "stdout",
     "output_type": "stream",
     "text": [
      "tensor(1.1710)\n",
      "tensor(1.1710)\n"
     ]
    }
   ],
   "source": [
    "batch_size = 4\n",
    "feat_dim = 512\n",
    "tau = 1\n",
    "xi = torch.randn(batch_size, feat_dim)\n",
    "xj = xi + (0.05 * torch.randn(batch_size, feat_dim))\n",
    "\n",
    "x = torch.cat((xi, xj), dim=0)\n",
    "\n",
    "loss_func1 = contrastive_loss()\n",
    "loss_func2 = contrastive_loss2()\n",
    "\n",
    "print(loss_func1(x))\n",
    "\n",
    "print(loss_func2(xi, xj))"
   ]
  },
  {
   "cell_type": "code",
   "execution_count": null,
   "metadata": {},
   "outputs": [],
   "source": []
  }
 ],
 "metadata": {
  "kernelspec": {
   "display_name": "Python 3",
   "language": "python",
   "name": "python3"
  },
  "language_info": {
   "codemirror_mode": {
    "name": "ipython",
    "version": 3
   },
   "file_extension": ".py",
   "mimetype": "text/x-python",
   "name": "python",
   "nbconvert_exporter": "python",
   "pygments_lexer": "ipython3",
   "version": "3.7.4"
  },
  "latex_envs": {
   "LaTeX_envs_menu_present": true,
   "autoclose": false,
   "autocomplete": true,
   "bibliofile": "biblio.bib",
   "cite_by": "apalike",
   "current_citInitial": 1,
   "eqLabelWithNumbers": true,
   "eqNumInitial": 1,
   "hotkeys": {
    "equation": "Ctrl-E",
    "itemize": "Ctrl-I"
   },
   "labels_anchors": false,
   "latex_user_defs": false,
   "report_style_numbering": false,
   "user_envs_cfg": false
  },
  "varInspector": {
   "cols": {
    "lenName": 16,
    "lenType": 16,
    "lenVar": 40
   },
   "kernels_config": {
    "python": {
     "delete_cmd_postfix": "",
     "delete_cmd_prefix": "del ",
     "library": "var_list.py",
     "varRefreshCmd": "print(var_dic_list())"
    },
    "r": {
     "delete_cmd_postfix": ") ",
     "delete_cmd_prefix": "rm(",
     "library": "var_list.r",
     "varRefreshCmd": "cat(var_dic_list()) "
    }
   },
   "types_to_exclude": [
    "module",
    "function",
    "builtin_function_or_method",
    "instance",
    "_Feature"
   ],
   "window_display": false
  }
 },
 "nbformat": 4,
 "nbformat_minor": 2
}
