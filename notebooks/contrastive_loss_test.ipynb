{
 "cells": [
  {
   "cell_type": "code",
   "execution_count": 1,
   "metadata": {},
   "outputs": [],
   "source": [
    "import sys\n",
    "sys.path.append('../')\n",
    "\n",
    "import torch\n",
    "from torch.utils.data import DataLoader\n",
    "from torchvision import transforms\n",
    "from torchvision import datasets\n",
    "from torch.utils.data import SubsetRandomSampler\n",
    "import numpy as np\n",
    "import random\n",
    "\n",
    "import numpy as np\n",
    "import pandas as pd\n",
    "import os\n",
    "import glob\n",
    "import tqdm\n",
    "import matplotlib.pyplot as plt\n",
    "import matplotlib.gridspec as gridspec\n",
    "import seaborn as sns\n",
    "import sklearn\n",
    "\n",
    "eps = np.finfo(float).eps\n",
    "\n",
    "plt.rcParams['figure.figsize'] = 10, 10\n",
    "%matplotlib inline\n",
    "\n",
    "%load_ext autoreload\n",
    "%autoreload 2"
   ]
  },
  {
   "cell_type": "code",
   "execution_count": 30,
   "metadata": {},
   "outputs": [],
   "source": [
    "batch_size = 4\n",
    "feat_dim = 512\n",
    "tau = 1\n",
    "x_i = torch.randn(batch_size, feat_dim)\n",
    "x_j = x_i + 0.05 * torch.randn(batch_size, feat_dim)\n",
    "x = torch.cat((x_i, x_j), dim=0)"
   ]
  },
  {
   "cell_type": "code",
   "execution_count": 31,
   "metadata": {},
   "outputs": [
    {
     "name": "stdout",
     "output_type": "stream",
     "text": [
      "torch.Size([8, 8])\n"
     ]
    }
   ],
   "source": [
    "sim_mat_nom = torch.mm(x, x.T)\n",
    "sim_mat_denom = torch.mm(torch.norm(x, dim=1).unsqueeze(1), torch.norm(x, dim=1).unsqueeze(1).T)\n",
    "\n",
    "sim_mat = sim_mat_nom / sim_mat_denom.clamp(min=1e-16)\n",
    "sim_mat = torch.exp(sim_mat / tau)\n",
    "\n",
    "print(sim_mat.size())"
   ]
  },
  {
   "cell_type": "code",
   "execution_count": 32,
   "metadata": {},
   "outputs": [
    {
     "name": "stdout",
     "output_type": "stream",
     "text": [
      "tensor([[2.7183, 0.9720, 1.0545, 1.1027, 2.7150, 0.9737, 1.0540, 1.1049],\n",
      "        [0.9720, 2.7183, 0.9984, 0.9923, 0.9764, 2.7149, 0.9982, 0.9930],\n",
      "        [1.0545, 0.9984, 2.7183, 0.9384, 1.0507, 0.9996, 2.7149, 0.9388],\n",
      "        [1.1027, 0.9923, 0.9384, 2.7183, 1.1034, 0.9916, 0.9388, 2.7148],\n",
      "        [2.7150, 0.9764, 1.0507, 1.1034, 2.7183, 0.9780, 1.0505, 1.1057],\n",
      "        [0.9737, 2.7149, 0.9996, 0.9916, 0.9780, 2.7183, 0.9995, 0.9923],\n",
      "        [1.0540, 0.9982, 2.7149, 0.9388, 1.0505, 0.9995, 2.7183, 0.9392],\n",
      "        [1.1049, 0.9930, 0.9388, 2.7148, 1.1057, 0.9923, 0.9392, 2.7183]])\n"
     ]
    }
   ],
   "source": [
    "print(sim_mat)"
   ]
  },
  {
   "cell_type": "code",
   "execution_count": 53,
   "metadata": {},
   "outputs": [
    {
     "name": "stdout",
     "output_type": "stream",
     "text": [
      "tensor([[0.0000, 0.9720, 1.0545, 1.1027, 2.7150, 0.9737, 1.0540, 1.1049],\n",
      "        [0.9720, 0.0000, 0.9984, 0.9923, 0.9764, 2.7149, 0.9982, 0.9930],\n",
      "        [1.0545, 0.9984, 0.0000, 0.9384, 1.0507, 0.9996, 2.7149, 0.9388],\n",
      "        [1.1027, 0.9923, 0.9384, 0.0000, 1.1034, 0.9916, 0.9388, 2.7148],\n",
      "        [2.7150, 0.9764, 1.0507, 1.1034, 0.0000, 0.9780, 1.0505, 1.1057],\n",
      "        [0.9737, 2.7149, 0.9996, 0.9916, 0.9780, 0.0000, 0.9995, 0.9923],\n",
      "        [1.0540, 0.9982, 2.7149, 0.9388, 1.0505, 0.9995, 0.0000, 0.9392],\n",
      "        [1.1049, 0.9930, 0.9388, 2.7148, 1.1057, 0.9923, 0.9392, 0.0000]])\n",
      "0-4\n",
      "1-5\n",
      "2-6\n",
      "3-7\n"
     ]
    },
    {
     "data": {
      "text/plain": [
       "tensor(0.4803)"
      ]
     },
     "execution_count": 53,
     "metadata": {},
     "output_type": "execute_result"
    }
   ],
   "source": [
    "i_ind = torch.arange(0, batch_size)\n",
    "j_ind = torch.arange(batch_size, batch_size * 2)\n",
    "\n",
    "diag_ind = torch.eye(batch_size * 2).bool()\n",
    "sim_mat = sim_mat.masked_fill_(diag_ind, 0)\n",
    "\n",
    "left_score = []\n",
    "right_score = []\n",
    "losses = []\n",
    "print(sim_mat)\n",
    "for i, j in zip(i_ind, j_ind):\n",
    "    print(\"{}-{}\".format(i, j))\n",
    "    left = sim_mat[i][j] / torch.sum(sim_mat[i, :])\n",
    "    right = sim_mat[j][i] / torch.sum(sim_mat[j, :])\n",
    "    left_score.append(left)\n",
    "    right_score.append(right)\n",
    "    final_score = -torch.log(right + right)\n",
    "    losses.append(final_score)\n",
    "\n",
    "torch.mean(torch.tensor(losses))"
   ]
  },
  {
   "cell_type": "code",
   "execution_count": 46,
   "metadata": {},
   "outputs": [
    {
     "data": {
      "text/plain": [
       "[tensor(0.3024), tensor(0.3140), tensor(0.3122), tensor(0.3091)]"
      ]
     },
     "execution_count": 46,
     "metadata": {},
     "output_type": "execute_result"
    }
   ],
   "source": [
    "left_score"
   ]
  },
  {
   "cell_type": "code",
   "execution_count": 47,
   "metadata": {},
   "outputs": [
    {
     "data": {
      "text/plain": [
       "[tensor(0.3023), tensor(0.3139), tensor(0.3122), tensor(0.3089)]"
      ]
     },
     "execution_count": 47,
     "metadata": {},
     "output_type": "execute_result"
    }
   ],
   "source": [
    "right_score"
   ]
  },
  {
   "cell_type": "code",
   "execution_count": 48,
   "metadata": {},
   "outputs": [
    {
     "data": {
      "text/plain": [
       "[tensor(0.6048), tensor(0.6279), tensor(0.6245), tensor(0.6180)]"
      ]
     },
     "execution_count": 48,
     "metadata": {},
     "output_type": "execute_result"
    }
   ],
   "source": [
    "losses"
   ]
  },
  {
   "cell_type": "code",
   "execution_count": 50,
   "metadata": {},
   "outputs": [
    {
     "data": {
      "text/plain": [
       "tensor(0.3024)"
      ]
     },
     "execution_count": 50,
     "metadata": {},
     "output_type": "execute_result"
    }
   ],
   "source": [
    "2.7150 / torch.sum(sim_mat[0, :])"
   ]
  },
  {
   "cell_type": "code",
   "execution_count": null,
   "metadata": {},
   "outputs": [],
   "source": []
  },
  {
   "cell_type": "code",
   "execution_count": null,
   "metadata": {},
   "outputs": [],
   "source": []
  }
 ],
 "metadata": {
  "kernelspec": {
   "display_name": "Python 3",
   "language": "python",
   "name": "python3"
  },
  "language_info": {
   "codemirror_mode": {
    "name": "ipython",
    "version": 3
   },
   "file_extension": ".py",
   "mimetype": "text/x-python",
   "name": "python",
   "nbconvert_exporter": "python",
   "pygments_lexer": "ipython3",
   "version": "3.6.8"
  },
  "latex_envs": {
   "LaTeX_envs_menu_present": true,
   "autoclose": false,
   "autocomplete": true,
   "bibliofile": "biblio.bib",
   "cite_by": "apalike",
   "current_citInitial": 1,
   "eqLabelWithNumbers": true,
   "eqNumInitial": 1,
   "hotkeys": {
    "equation": "Ctrl-E",
    "itemize": "Ctrl-I"
   },
   "labels_anchors": false,
   "latex_user_defs": false,
   "report_style_numbering": false,
   "user_envs_cfg": false
  },
  "varInspector": {
   "cols": {
    "lenName": 16,
    "lenType": 16,
    "lenVar": 40
   },
   "kernels_config": {
    "python": {
     "delete_cmd_postfix": "",
     "delete_cmd_prefix": "del ",
     "library": "var_list.py",
     "varRefreshCmd": "print(var_dic_list())"
    },
    "r": {
     "delete_cmd_postfix": ") ",
     "delete_cmd_prefix": "rm(",
     "library": "var_list.r",
     "varRefreshCmd": "cat(var_dic_list()) "
    }
   },
   "types_to_exclude": [
    "module",
    "function",
    "builtin_function_or_method",
    "instance",
    "_Feature"
   ],
   "window_display": false
  }
 },
 "nbformat": 4,
 "nbformat_minor": 2
}
