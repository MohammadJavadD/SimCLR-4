{
 "cells": [
  {
   "cell_type": "code",
   "execution_count": 53,
   "metadata": {},
   "outputs": [
    {
     "name": "stdout",
     "output_type": "stream",
     "text": [
      "The autoreload extension is already loaded. To reload it, use:\n",
      "  %reload_ext autoreload\n"
     ]
    }
   ],
   "source": [
    "import sys\n",
    "sys.path.append('../')\n",
    "\n",
    "import torch\n",
    "import torch.nn as nn\n",
    "from torch.utils.data import DataLoader\n",
    "from torchvision import transforms\n",
    "from torchvision import datasets\n",
    "from torch.utils.data import SubsetRandomSampler\n",
    "import numpy as np\n",
    "import random\n",
    "\n",
    "import numpy as np\n",
    "import pandas as pd\n",
    "import os\n",
    "import glob\n",
    "import tqdm\n",
    "import matplotlib.pyplot as plt\n",
    "import matplotlib.gridspec as gridspec\n",
    "import seaborn as sns\n",
    "import sklearn\n",
    "\n",
    "eps = np.finfo(float).eps\n",
    "\n",
    "plt.rcParams['figure.figsize'] = 10, 10\n",
    "%matplotlib inline\n",
    "\n",
    "%load_ext autoreload\n",
    "%autoreload 2"
   ]
  },
  {
   "cell_type": "code",
   "execution_count": 54,
   "metadata": {},
   "outputs": [],
   "source": [
    "batch_size = 4\n",
    "feat_dim = 512\n",
    "tau = 1\n",
    "x_i = torch.randn(batch_size, feat_dim)\n",
    "x_j = x_i + 0.05 * torch.randn(batch_size, feat_dim)\n",
    "x = torch.cat((x_i, x_j), dim=0)"
   ]
  },
  {
   "cell_type": "code",
   "execution_count": 55,
   "metadata": {},
   "outputs": [
    {
     "name": "stdout",
     "output_type": "stream",
     "text": [
      "torch.Size([8, 8])\n"
     ]
    }
   ],
   "source": [
    "sim_mat_nom = torch.mm(x, x.T)\n",
    "sim_mat_denom = torch.mm(torch.norm(x, dim=1).unsqueeze(1), torch.norm(x, dim=1).unsqueeze(1).T)\n",
    "\n",
    "sim_mat = sim_mat_nom / sim_mat_denom.clamp(min=1e-16)\n",
    "sim_mat = torch.exp(sim_mat / tau)\n",
    "\n",
    "print(sim_mat.size())"
   ]
  },
  {
   "cell_type": "code",
   "execution_count": 56,
   "metadata": {},
   "outputs": [
    {
     "name": "stdout",
     "output_type": "stream",
     "text": [
      "tensor([[2.7183, 0.9925, 0.9922, 0.9922, 2.7149, 0.9885, 0.9907, 0.9878],\n",
      "        [0.9925, 2.7183, 0.9610, 0.9498, 0.9938, 2.7145, 0.9618, 0.9467],\n",
      "        [0.9922, 0.9610, 2.7183, 1.0612, 0.9920, 0.9635, 2.7149, 1.0597],\n",
      "        [0.9922, 0.9498, 1.0612, 2.7183, 0.9880, 0.9476, 1.0629, 2.7151],\n",
      "        [2.7149, 0.9938, 0.9920, 0.9880, 2.7183, 0.9896, 0.9906, 0.9836],\n",
      "        [0.9885, 2.7145, 0.9635, 0.9476, 0.9896, 2.7183, 0.9645, 0.9446],\n",
      "        [0.9907, 0.9618, 2.7149, 1.0629, 0.9906, 0.9645, 2.7183, 1.0614],\n",
      "        [0.9878, 0.9467, 1.0597, 2.7151, 0.9836, 0.9446, 1.0614, 2.7183]])\n"
     ]
    }
   ],
   "source": [
    "print(sim_mat)"
   ]
  },
  {
   "cell_type": "code",
   "execution_count": 57,
   "metadata": {},
   "outputs": [
    {
     "name": "stdout",
     "output_type": "stream",
     "text": [
      "0-4\n",
      "1-5\n",
      "2-6\n",
      "3-7\n"
     ]
    },
    {
     "data": {
      "text/plain": [
       "tensor(0.6271)"
      ]
     },
     "execution_count": 57,
     "metadata": {},
     "output_type": "execute_result"
    }
   ],
   "source": [
    "i_ind = torch.arange(0, batch_size)\n",
    "j_ind = torch.arange(batch_size, batch_size * 2)\n",
    "\n",
    "diag_ind = torch.eye(batch_size * 2).bool()\n",
    "sim_mat = sim_mat.masked_fill_(diag_ind, 0)\n",
    "\n",
    "left_score = []\n",
    "right_score = []\n",
    "losses = []\n",
    "for i in range(4):\n",
    "    j = i + 4\n",
    "    print('{}-{}'.format(i,j))\n",
    "    loss = 2 * sim_mat[i][j] / torch.sum(sim_mat[i, :])\n",
    "    losses.append(loss)\n",
    "\n",
    "torch.mean(torch.tensor(losses))"
   ]
  },
  {
   "cell_type": "code",
   "execution_count": 59,
   "metadata": {},
   "outputs": [],
   "source": [
    "class contrastive_loss(nn.Module):\n",
    "    def __init__(self, tau=1):\n",
    "        self.tau = tau\n",
    "\n",
    "    def forwrad(self, x):\n",
    "        b_sz = x.size(0) // 2\n",
    "\n",
    "        sim_mat_nom = torch.mm(x, x.T)\n",
    "        sim_mat_denom = torch.mm(torch.norm(x, dim=1).unsqueeze(1), torch.norm(x, dim=1).unsqueeze(1).T)\n",
    "\n",
    "        sim_mat = sim_mat_nom / sim_mat_denom.clamp(min=1e-16)\n",
    "        sim_mat = torch.exp(sim_mat / self.tau)\n",
    "\n",
    "        # getting rid of diag\n",
    "        diag_ind = torch.eye(b_sz * 2).bool()\n",
    "        sim_mat = sim_mat.masked_fill_(diag_ind, 0)\n",
    "\n",
    "        loss_nom = torch.zeros(b_sz)\n",
    "        loss_denom = torch.zeros(b_sz)\n",
    "\n",
    "        for i in range(b_sz):\n",
    "            loss_nom[i] = sim_mat[i][i + b_sz]\n",
    "            loss_denom[i] = torch.sum(sim_mat[i, :])\n",
    "\n",
    "        loss = torch.mean(-torch.log(loss_nom / loss_denom))\n",
    "\n",
    "        return loss\n",
    "\n",
    "    "
   ]
  },
  {
   "cell_type": "code",
   "execution_count": null,
   "metadata": {},
   "outputs": [],
   "source": []
  }
 ],
 "metadata": {
  "kernelspec": {
   "display_name": "Python 3",
   "language": "python",
   "name": "python3"
  },
  "language_info": {
   "codemirror_mode": {
    "name": "ipython",
    "version": 3
   },
   "file_extension": ".py",
   "mimetype": "text/x-python",
   "name": "python",
   "nbconvert_exporter": "python",
   "pygments_lexer": "ipython3",
   "version": "3.7.4"
  },
  "latex_envs": {
   "LaTeX_envs_menu_present": true,
   "autoclose": false,
   "autocomplete": true,
   "bibliofile": "biblio.bib",
   "cite_by": "apalike",
   "current_citInitial": 1,
   "eqLabelWithNumbers": true,
   "eqNumInitial": 1,
   "hotkeys": {
    "equation": "Ctrl-E",
    "itemize": "Ctrl-I"
   },
   "labels_anchors": false,
   "latex_user_defs": false,
   "report_style_numbering": false,
   "user_envs_cfg": false
  },
  "varInspector": {
   "cols": {
    "lenName": 16,
    "lenType": 16,
    "lenVar": 40
   },
   "kernels_config": {
    "python": {
     "delete_cmd_postfix": "",
     "delete_cmd_prefix": "del ",
     "library": "var_list.py",
     "varRefreshCmd": "print(var_dic_list())"
    },
    "r": {
     "delete_cmd_postfix": ") ",
     "delete_cmd_prefix": "rm(",
     "library": "var_list.r",
     "varRefreshCmd": "cat(var_dic_list()) "
    }
   },
   "types_to_exclude": [
    "module",
    "function",
    "builtin_function_or_method",
    "instance",
    "_Feature"
   ],
   "window_display": false
  }
 },
 "nbformat": 4,
 "nbformat_minor": 2
}
